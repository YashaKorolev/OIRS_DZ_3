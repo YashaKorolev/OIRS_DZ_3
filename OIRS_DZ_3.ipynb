{
 "cells": [
  {
   "cell_type": "markdown",
   "metadata": {
    "id": "7uLSt3vBI0zr"
   },
   "source": [
    "# Домашнее задание 3. Свёрточные и рекуррентные нейронные сети\n",
    "## Королев Я. М. ИУ8-83"
   ]
  },
  {
   "cell_type": "markdown",
   "metadata": {
    "id": "2JxNVonhRMgf"
   },
   "source": [
    "В зависимости от варианта, для решения задачи используйте следующие наборы данных:\n",
    "\n",
    "<table>\n",
    "    <thead>\n",
    "         <tr>\n",
    "            <th colspan=1>Задача генерации</th>\n",
    "            <th colspan=5>Задача классификации</th>\n",
    "        </tr>\n",
    "        <tr>\n",
    "            <th> </th>\n",
    "            <th>A</th>\n",
    "            <th>B</th>\n",
    "            <th>C</th>\n",
    "            <th>D</th>\n",
    "            <th>E</th>\n",
    "        </tr>\n",
    "    </thead>\n",
    "    <tbody>\n",
    "        <tr>\n",
    "            <td>K</td>\n",
    "            <td>1</td>\n",
    "            <td>2</td>\n",
    "            <td>3</td>\n",
    "            <td>4</td>\n",
    "            <td>5</td>\n",
    "        </tr>\n",
    "        <tr>\n",
    "            <td>L</td>\n",
    "            <td>6</td>\n",
    "            <td>7</td>\n",
    "            <td>8</td>\n",
    "            <td>9</td>\n",
    "            <td>10</td>\n",
    "        </tr>\n",
    "        <tr>\n",
    "            <td>M</td>\n",
    "            <td>11</td>\n",
    "            <td>12</td>\n",
    "            <td>13</td>\n",
    "            <td>14</td>\n",
    "            <td>15</td>\n",
    "        </tr>\n",
    "        <tr>\n",
    "            <td>N</td>\n",
    "            <td>16</td>\n",
    "            <td>17</td>\n",
    "            <td>18</td>\n",
    "            <td>19</td>\n",
    "            <td>20</td>\n",
    "        </tr>\n",
    "        <tr>\n",
    "            <td>O</td>\n",
    "            <td>21</td>\n",
    "            <td>22</td>\n",
    "            <td>23</td>\n",
    "            <td>24</td>\n",
    "            <td>25</td>\n",
    "        </tr>\n",
    "    </tbody>\n",
    "</table>\n",
    "\n",
    "### Наборы данных\n",
    "\n",
    "**Задача классификации картинок**\n",
    "\n",
    "A. [Набор данных \"Fashion MNIST\"](https://pytorch.org/vision/main/generated/torchvision.datasets.FashionMNIST.html) `torchvision.datasets.FashionMNIST train=True и False`\n",
    "\n",
    "B. [Набор данных \"Текстуры\"](https://pytorch.org/vision/main/generated/torchvision.datasets.DTD.html#torchvision.datasets.DTD) `torchvision.datasets.DTD split='train' и 'test'`\n",
    "\n",
    "C. [Набор данных \"Буквы\"](https://pytorch.org/vision/main/generated/torchvision.datasets.EMNIST.html#torchvision.datasets.EMNIST) `torchvision.datasets.EMNIST split=letters train=True и False`\n",
    "\n",
    "D. [Набор данных \"Кошки и собаки\"](https://pytorch.org/vision/main/generated/torchvision.datasets.OxfordIIITPet.html) `torchvision.datasets.OxfordIIITPet split = 'trainval' и 'test'` (объекты разбиты по породам (всего 37 пород), нужно построить бинарный классификатор собак и кошек)\n",
    "\n",
    "E. [Набор данных \"Дорожные знаки\"](https://pytorch.org/vision/main/generated/torchvision.datasets.GTSRB.html) `torchvision.datasets.GTSRB split = 'train' и 'test'`\n",
    "\n",
    "\n",
    "---\n",
    "\n",
    "**Задача генерации текстов**\n",
    "\n",
    "K. [Набор данных \"Евгений Онегин\"]() `onegin.txt`\n",
    "\n",
    "L. [Набор данных \"Война и Мир\"]() `war_and_piece.txt`\n",
    "\n",
    "M. [Набор данных \"Стихи\"]() `stihi.csv`\n",
    "\n",
    "N. [Набор данных \"Сказки\"]() `fairytales.txt`\n",
    "\n",
    "O. [Набор данных \"Новости\"]() `news.txt` или https://github.com/yutkin/Lenta.Ru-News-Dataset/releases"
   ]
  },
  {
   "cell_type": "markdown",
   "metadata": {
    "id": "zsqatIg_JBu7"
   },
   "source": [
    "# 0. Инициализация библиотек"
   ]
  },
  {
   "cell_type": "code",
   "execution_count": null,
   "metadata": {
    "id": "WGZt4ftTJxg4"
   },
   "outputs": [],
   "source": [
    "import numpy as np\n",
    "import pandas as pd\n",
    "import torch\n"
   ]
  },
  {
   "cell_type": "markdown",
   "metadata": {
    "id": "aGY7pMa8_vhU"
   },
   "source": [
    "Подсказка по разделению пород на два класса"
   ]
  },
  {
   "cell_type": "code",
   "execution_count": null,
   "metadata": {
    "id": "P5YHoAIe_voy"
   },
   "outputs": [],
   "source": [
    "import torchvision\n",
    "\n",
    "# Все классы\n",
    "len(torchvision.datasets.OxfordIIITPet(root='data_train', download=True).classes)\n",
    "\n",
    "# кошки\n",
    "cats = ['Abyssinian', 'Bengal', 'Birman', 'Bombay', 'British Shorthair', 'Egyptian Mau', 'Maine Coon', 'Persian', 'Ragdoll', 'Russian Blue', 'Siamese', 'Sphynx']\n",
    "\n",
    "# собаки\n",
    "dogs = ['American Bulldog', 'American Pit Bull Terrier', 'Basset Hound', 'Beagle', 'Boxer', 'Chihuahua', 'English Cocker Spaniel', 'English Setter', 'German Shorthaired', 'Great Pyrenees',\n",
    "        'Havanese', 'Japanese Chin', 'Keeshond', 'Leonberger', 'Miniature Pinscher', 'Newfoundland', 'Pomeranian', 'Pug', 'Saint Bernard', 'Samoyed', 'Scottish Terrier', 'Shiba Inu',\n",
    "        'Staffordshire Bull Terrier', 'Wheaten Terrier', 'Yorkshire Terrier']\n"
   ]
  },
  {
   "cell_type": "markdown",
   "metadata": {
    "id": "5oGgl1uGJBxH"
   },
   "source": [
    "# 1. Свёрточная нейронная сеть для классификации изображений (9 баллов)"
   ]
  },
  {
   "cell_type": "markdown",
   "metadata": {
    "id": "qV47VXssLKa9"
   },
   "source": [
    "## 1.1 Загрузка данных, разделение на train и test\n",
    "\n",
    "Загрузите данные при помощи torchvision.datasets. Можете предусмотреть опредлённые транфсофрмации картинки, например, изменение размера до 128 px, кроп по центру в 196 px и преобразование к классу torch.Tensor:\n",
    "\n",
    "```\n",
    "import torchvision\n",
    "\n",
    "\n",
    "transform = torchvision.transforms.Compose([\n",
    "    # resize\n",
    "    torchvision.transforms.Resize(128),\n",
    "    torchvision.transforms.CenterCrop(196),\n",
    "    torchvision.transforms.ToTensor()\n",
    "])\n",
    "```"
   ]
  },
  {
   "cell_type": "code",
   "execution_count": null,
   "metadata": {
    "id": "XjIoB9zTKAY2"
   },
   "outputs": [],
   "source": []
  },
  {
   "cell_type": "markdown",
   "metadata": {
    "id": "MYWcgRrZSWfY"
   },
   "source": [
    "## 1.2 Предобработка данных (по необходимости)"
   ]
  },
  {
   "cell_type": "code",
   "execution_count": null,
   "metadata": {
    "id": "C-LVM7AwJ8si"
   },
   "outputs": [],
   "source": []
  },
  {
   "cell_type": "markdown",
   "metadata": {
    "id": "tP7e_V16J9zV"
   },
   "source": [
    "## 1.3 Инициализация объекта свёрточной нейронной сети\n",
    "\n",
    "Создайте нейронную сеть с 2-4 свёрточными слоями. В остальном конфигурация сети может быть произвольной. "
   ]
  },
  {
   "cell_type": "code",
   "execution_count": null,
   "metadata": {
    "id": "YcsgF13xhcEa"
   },
   "outputs": [],
   "source": []
  },
  {
   "cell_type": "markdown",
   "metadata": {
    "id": "fH3m86cZKMDU"
   },
   "source": [
    "## 1.4 Обучение сввёрточной нейронной сети для решения задачи классификации"
   ]
  },
  {
   "cell_type": "code",
   "execution_count": null,
   "metadata": {
    "id": "qW6LwnnQKQ04"
   },
   "outputs": [],
   "source": []
  },
  {
   "cell_type": "markdown",
   "metadata": {
    "id": "ML_5LCyrKSv9"
   },
   "source": [
    "## 1.5 Агументация данных и регулряизации нейросети\n",
    "\n",
    "Попобуйте добавить аугументацию (случайные повороты, увеличение, уменьшение) в данные, а также регуляризацию (Drop out и Batch Norm слои) в модель. Как меняется метрика accuracy на обучающей и тестовой выборке в процессе обучения? Постройте график."
   ]
  },
  {
   "cell_type": "code",
   "execution_count": null,
   "metadata": {
    "id": "N90xjiR9Dkgb"
   },
   "outputs": [],
   "source": []
  },
  {
   "cell_type": "markdown",
   "metadata": {
    "id": "aTD5QBT-bsnu"
   },
   "source": [
    "## 1.6 Обучение нейросети на данных с аугументацией "
   ]
  },
  {
   "cell_type": "code",
   "execution_count": null,
   "metadata": {
    "id": "rmlsO4C2bsii"
   },
   "outputs": [],
   "source": []
  },
  {
   "cell_type": "markdown",
   "metadata": {
    "id": "uydqxWwQKWYQ"
   },
   "source": [
    "## 1.7 Выводы\n",
    "\n",
    "Что удалось попробовать? Что получилось, а что — нет? Повлияло ли добавление аугументации на качество?"
   ]
  },
  {
   "cell_type": "markdown",
   "metadata": {
    "id": "D5G-61iAKh0A"
   },
   "source": [
    "# 2. Рекуррентная нейронная сеть для генерации текстов (9 баллов)"
   ]
  },
  {
   "cell_type": "markdown",
   "metadata": {
    "id": "BIVlZeMLKwc6"
   },
   "source": [
    "## 2.1 Загрузка данных\n",
    "\n"
   ]
  },
  {
   "cell_type": "code",
   "execution_count": null,
   "metadata": {
    "id": "m0CBKtrJL9kt"
   },
   "outputs": [],
   "source": []
  },
  {
   "cell_type": "markdown",
   "metadata": {
    "id": "v4TTaWpIKwc9"
   },
   "source": [
    "## 2.2 Преодбработка/нормализация данных по необходимости\n",
    "\n",
    "Например, можно привести все слова к нижнему регистру"
   ]
  },
  {
   "cell_type": "code",
   "execution_count": null,
   "metadata": {
    "id": "qtBeZ7VRVfxn"
   },
   "outputs": [],
   "source": []
  },
  {
   "cell_type": "markdown",
   "metadata": {
    "id": "7xeKpLH3Kwc9"
   },
   "source": [
    "## 2.3 Инициализация объекта рекуррентной нейронной сети"
   ]
  },
  {
   "cell_type": "code",
   "execution_count": null,
   "metadata": {
    "id": "mjsbLlkVSwiL"
   },
   "outputs": [],
   "source": []
  },
  {
   "cell_type": "markdown",
   "metadata": {
    "id": "liOZimvTKwc-"
   },
   "source": [
    "## 2.4 Обучение обычной рекуррентной нейронной сети"
   ]
  },
  {
   "cell_type": "code",
   "execution_count": null,
   "metadata": {
    "id": "DfTeyL-eS-nZ"
   },
   "outputs": [],
   "source": []
  },
  {
   "cell_type": "markdown",
   "metadata": {
    "id": "2K6Inp-qKwc_"
   },
   "source": [
    "## 2.5 Генерация текстов при помощи обычной рекуррентной сети"
   ]
  },
  {
   "cell_type": "code",
   "execution_count": null,
   "metadata": {
    "id": "JRt6j0VsKhdW"
   },
   "outputs": [],
   "source": []
  },
  {
   "cell_type": "markdown",
   "metadata": {
    "id": "PQIhCxJsLRZA"
   },
   "source": [
    "## 2.6 Обучение рекуррентной нейронной сети с LSTM-ячейками"
   ]
  },
  {
   "cell_type": "code",
   "execution_count": null,
   "metadata": {
    "id": "hzGeu7iXLRfl"
   },
   "outputs": [],
   "source": []
  },
  {
   "cell_type": "markdown",
   "metadata": {
    "id": "hodfK4dxLWO3"
   },
   "source": [
    "## 2.7 Генерация текстов с разной температурой\n",
    "\n",
    "Попробуйте сгенерировать тексты с температурой из списка: `[0.1, 0.2, 0.4, 0.6, 0.8, 1.0]` (см. нотубук с семинара по RNN)"
   ]
  },
  {
   "cell_type": "code",
   "execution_count": null,
   "metadata": {
    "id": "5SsbA8hSLWWJ"
   },
   "outputs": [],
   "source": []
  },
  {
   "cell_type": "markdown",
   "metadata": {
    "id": "wmkAq2N7LdzA"
   },
   "source": [
    "## 2.8 Выводы"
   ]
  },
  {
   "cell_type": "markdown",
   "metadata": {
    "id": "KdFzjKnbV4yG"
   },
   "source": []
  }
 ],
 "metadata": {
  "accelerator": "GPU",
  "colab": {
   "collapsed_sections": [],
   "name": "oirs_hw_3.ipynb",
   "provenance": []
  },
  "kernelspec": {
   "display_name": "Python 3 (ipykernel)",
   "language": "python",
   "name": "python3"
  },
  "language_info": {
   "codemirror_mode": {
    "name": "ipython",
    "version": 3
   },
   "file_extension": ".py",
   "mimetype": "text/x-python",
   "name": "python",
   "nbconvert_exporter": "python",
   "pygments_lexer": "ipython3",
   "version": "3.9.7"
  }
 },
 "nbformat": 4,
 "nbformat_minor": 4
}
